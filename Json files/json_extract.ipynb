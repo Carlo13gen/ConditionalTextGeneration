{
 "cells": [
  {
   "cell_type": "code",
   "execution_count": 10,
   "id": "adjusted-personal",
   "metadata": {},
   "outputs": [
    {
     "name": "stdout",
     "output_type": "stream",
     "text": [
      "1000\n"
     ]
    }
   ],
   "source": [
    "json = open(\"captions_val2014_fakecap_results.json\", \"r\")\n",
    "captions = []\n",
    "for line in json :\n",
    "    line = line.strip(\"[{}]\")\n",
    "    parts = line.split(\"}, {\")\n",
    "    for cap in parts:\n",
    "        caption = cap.split(\": \")[2].strip(\"\\\"\")\n",
    "        captions.append(caption)\n",
    "json.close()\n",
    "print(len(captions))\n",
    "            "
   ]
  },
  {
   "cell_type": "code",
   "execution_count": null,
   "id": "large-waters",
   "metadata": {},
   "outputs": [],
   "source": []
  }
 ],
 "metadata": {
  "kernelspec": {
   "display_name": "Python 3",
   "language": "python",
   "name": "python3"
  },
  "language_info": {
   "codemirror_mode": {
    "name": "ipython",
    "version": 3
   },
   "file_extension": ".py",
   "mimetype": "text/x-python",
   "name": "python",
   "nbconvert_exporter": "python",
   "pygments_lexer": "ipython3",
   "version": "3.9.2"
  }
 },
 "nbformat": 4,
 "nbformat_minor": 5
}
